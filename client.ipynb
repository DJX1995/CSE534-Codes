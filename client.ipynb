{
 "cells": [
  {
   "cell_type": "code",
   "execution_count": 1,
   "metadata": {},
   "outputs": [],
   "source": [
    "import socket\n",
    "import numpy as np\n",
    "import pickle as pkl\n",
    "import sys\n",
    "import time\n",
    "# Package imports\n",
    "from Server import Server\n",
    "from Client import Client\n",
    "\n",
    "import matplotlib.pyplot as plt\n",
    "import numpy as np\n",
    "import pandas as pd\n",
    "import sklearn\n",
    "import sklearn.datasets\n",
    "import sklearn.linear_model\n",
    "import matplotlib\n",
    "import tensorflow as tf\n",
    "# Display plots inline and change default figure size\n",
    "%matplotlib inline\n",
    "matplotlib.rcParams['figure.figsize'] = (10.0, 8.0)"
   ]
  },
  {
   "cell_type": "markdown",
   "metadata": {},
   "source": [
    "manually generated dataset. the client ,server parameters should be change based on the dataset."
   ]
  },
  {
   "cell_type": "code",
   "execution_count": 2,
   "metadata": {},
   "outputs": [],
   "source": [
    "num_features = 100\n",
    "X, y = sklearn.datasets.make_blobs(n_samples=1000, n_features=num_features, centers=10)"
   ]
  },
  {
   "cell_type": "code",
   "execution_count": 3,
   "metadata": {},
   "outputs": [],
   "source": [
    "X1 = X[:,:int(num_features/2)]\n",
    "y1 = y[:int(num_features/2)]\n",
    "X2 = X[:,int(num_features/2):]\n",
    "y2 = y[int(num_features/2):]"
   ]
  },
  {
   "cell_type": "code",
   "execution_count": 4,
   "metadata": {},
   "outputs": [],
   "source": [
    "num_examples = len(X)\n",
    "reg_lambda=0.01\n",
    "iterations = 20\n",
    "\n",
    "client1 = Client(X1,y,50)\n",
    "client2 = Client(X2,y,50)\n",
    "\n",
    "# SERVER_HOST = \"192.168.1.161\"\n",
    "# SERVER_PORT = 5001\n",
    "\n",
    "s = socket.socket(socket.AF_INET, socket.SOCK_STREAM)\n",
    "s.connect((socket.gethostname(), 1234))\n",
    "\n",
    "data_size = 0\n",
    "for i in range(iterations):\n",
    "    \n",
    "    random_key = np.random.randint(iterations)\n",
    "    client1.forward()\n",
    "    encrypt_z1 = client1.send_msg()\n",
    "    encrypt_z1 += random_key\n",
    "    client2.forward()\n",
    "    encrypt_z2 = client2.send_msg()\n",
    "    encrypt_z2 -= random_key\n",
    "    serialized_data1 = pkl.dumps([encrypt_z1,y])\n",
    "    mse_len1 = pkl.dumps(sys.getsizeof(serialized_data1))\n",
    "    serialized_data2 = pkl.dumps([encrypt_z2,y])\n",
    "    mse_len2 = pkl.dumps(sys.getsizeof(serialized_data2))\n",
    "    s.send(mse_len1)\n",
    "    s.recv(1024)\n",
    "    s.send(serialized_data1)\n",
    "    s.recv(1024)\n",
    "    s.send(mse_len2)\n",
    "    s.recv(1024)\n",
    "    s.send(serialized_data2)\n",
    "    s.recv(1024)\n",
    "    \n",
    "    data = b\"\"\n",
    "    mse_len = s.recv(1024)\n",
    "    mse_len = pkl.loads(mse_len,encoding=\"bytes\")\n",
    "    s.send(bytes(\"client received you message.\",\"utf-8\"))\n",
    "    temp = s.recv(mse_len+1)\n",
    "    data += temp\n",
    "    unserialized_data = pkl.loads(data,encoding=\"bytes\")\n",
    "\n",
    "    client1.backprop(unserialized_data[:,:int(unserialized_data.shape[1]/2)])\n",
    "    client2.backprop(unserialized_data[:,int(unserialized_data.shape[1]/2):])\n",
    "    \n",
    "s.close()"
   ]
  },
  {
   "cell_type": "code",
   "execution_count": null,
   "metadata": {},
   "outputs": [],
   "source": []
  },
  {
   "cell_type": "code",
   "execution_count": null,
   "metadata": {},
   "outputs": [],
   "source": []
  },
  {
   "cell_type": "code",
   "execution_count": null,
   "metadata": {},
   "outputs": [],
   "source": []
  },
  {
   "cell_type": "code",
   "execution_count": null,
   "metadata": {},
   "outputs": [],
   "source": []
  },
  {
   "cell_type": "code",
   "execution_count": null,
   "metadata": {},
   "outputs": [],
   "source": []
  }
 ],
 "metadata": {
  "kernelspec": {
   "display_name": "Python 3",
   "language": "python",
   "name": "python3"
  },
  "language_info": {
   "codemirror_mode": {
    "name": "ipython",
    "version": 3
   },
   "file_extension": ".py",
   "mimetype": "text/x-python",
   "name": "python",
   "nbconvert_exporter": "python",
   "pygments_lexer": "ipython3",
   "version": "3.7.7"
  }
 },
 "nbformat": 4,
 "nbformat_minor": 4
}
