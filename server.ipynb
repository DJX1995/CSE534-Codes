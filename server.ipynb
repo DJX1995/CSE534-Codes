{
 "cells": [
  {
   "cell_type": "code",
   "execution_count": 1,
   "metadata": {},
   "outputs": [],
   "source": [
    "import socket\n",
    "import numpy as np\n",
    "import pickle as pkl\n",
    "import sys\n",
    "import time\n",
    "from Server import Server\n",
    "from Client import Client\n",
    "import matplotlib.pyplot as plt\n",
    "import matplotlib\n",
    "\n",
    "# Display plots inline and change default figure size\n",
    "%matplotlib inline\n",
    "matplotlib.rcParams['figure.figsize'] = (10.0, 8.0)"
   ]
  },
  {
   "cell_type": "code",
   "execution_count": 2,
   "metadata": {},
   "outputs": [],
   "source": [
    "reg_lambda=0.01\n",
    "iterations = 20\n",
    "server = Server(20,30,10)"
   ]
  },
  {
   "cell_type": "markdown",
   "metadata": {},
   "source": [
    "only use cpu"
   ]
  },
  {
   "cell_type": "code",
   "execution_count": 3,
   "metadata": {
    "scrolled": false
   },
   "outputs": [
    {
     "name": "stdout",
     "output_type": "stream",
     "text": [
      "Server start at: DESKTOP-32B4E9T:1234\n",
      "wait for connection...\n",
      "Connected by ('192.168.1.161', 13866)\n",
      "training acccuracy after iteration 0: 0.1\n",
      "training acccuracy after iteration 1: 0.1\n",
      "training acccuracy after iteration 2: 0.1\n",
      "training acccuracy after iteration 3: 0.0\n",
      "training acccuracy after iteration 4: 0.199\n",
      "training acccuracy after iteration 5: 0.0\n",
      "training acccuracy after iteration 6: 0.2\n",
      "training acccuracy after iteration 7: 0.118\n",
      "training acccuracy after iteration 8: 0.331\n",
      "training acccuracy after iteration 9: 0.309\n",
      "training acccuracy after iteration 10: 0.417\n",
      "training acccuracy after iteration 11: 0.421\n",
      "training acccuracy after iteration 12: 0.46\n",
      "training acccuracy after iteration 13: 0.526\n",
      "training acccuracy after iteration 14: 0.695\n",
      "training acccuracy after iteration 15: 0.6\n",
      "training acccuracy after iteration 16: 0.7\n",
      "training acccuracy after iteration 17: 0.689\n",
      "training acccuracy after iteration 18: 0.7\n",
      "training acccuracy after iteration 19: 0.9\n"
     ]
    }
   ],
   "source": [
    "# SERVER_HOST = \"0.0.0.0\"\n",
    "# SERVER_PORT = 5001\n",
    "\n",
    "s = socket.socket(socket.AF_INET, socket.SOCK_STREAM)\n",
    "s.bind((socket.gethostname(), 1234))\n",
    "s.listen(5)\n",
    "\n",
    "print(\"Server start at: %s:%s\"%(socket.gethostname(), 1234))\n",
    "print(\"wait for connection...\")\n",
    "\n",
    "conn, addr = s.accept()\n",
    "print(\"Connected by\",addr)\n",
    "for i in range(iterations):\n",
    "    data = b\"\"\n",
    "#     print('receiving1')\n",
    "    mse_len1 = conn.recv(1024)\n",
    "    mse_len1 = pkl.loads(mse_len1,encoding=\"bytes\")\n",
    "    conn.send(bytes(\"server received you message.\",\"utf-8\"))\n",
    "    temp = conn.recv(mse_len1+1)\n",
    "    data += temp\n",
    "    unserialized_data1 = pkl.loads(data,encoding=\"bytes\")\n",
    "    conn.send(bytes(\"server received you message.\",\"utf-8\"))\n",
    "    encrypt_z1, y = unserialized_data1\n",
    "#     print('receiving2')\n",
    "    mse_len2 = conn.recv(1024)\n",
    "    mse_len2 = pkl.loads(mse_len2,encoding=\"bytes\")\n",
    "    conn.send(bytes(\"server received you message.\",\"utf-8\"))\n",
    "    temp = conn.recv(mse_len2+1)\n",
    "    data += temp\n",
    "    unserialized_data2 = pkl.loads(data,encoding=\"bytes\")\n",
    "    conn.send(bytes(\"server received you message.\",\"utf-8\"))\n",
    "    encrypt_z2, y = unserialized_data2\n",
    "    \n",
    "    encrypt_z = np.concatenate((encrypt_z1,encrypt_z2),axis=1)\n",
    "    \n",
    "#     print('forward - backward')\n",
    "    server.forward(encrypt_z)\n",
    "    server.cal_acc(y,i)\n",
    "    server.backprop(y)\n",
    "\n",
    "    delta2 = server.send_msg()\n",
    "    serialized_data = pkl.dumps(delta2)\n",
    "    mse_len = pkl.dumps(sys.getsizeof(serialized_data))\n",
    "\n",
    "    conn.send(mse_len)\n",
    "\n",
    "    conn.recv(1024)\n",
    "    conn.send(serialized_data)\n",
    "\n",
    "conn.close()"
   ]
  },
  {
   "cell_type": "code",
   "execution_count": null,
   "metadata": {},
   "outputs": [],
   "source": []
  },
  {
   "cell_type": "markdown",
   "metadata": {},
   "source": [
    "using GPU to train the model on the server side\n",
    "\n",
    "tensorflow version 2.0"
   ]
  },
  {
   "cell_type": "code",
   "execution_count": 3,
   "metadata": {},
   "outputs": [],
   "source": [
    "import tensorflow as tf\n",
    "physical_devices = tf.config.list_physical_devices('GPU') \n",
    "tf.config.experimental.set_memory_growth(physical_devices[0], True)"
   ]
  },
  {
   "cell_type": "code",
   "execution_count": 4,
   "metadata": {},
   "outputs": [
    {
     "name": "stdout",
     "output_type": "stream",
     "text": [
      "Model: \"sequential\"\n",
      "_________________________________________________________________\n",
      "Layer (type)                 Output Shape              Param #   \n",
      "=================================================================\n",
      "dense (Dense)                (None, 100)               10100     \n",
      "_________________________________________________________________\n",
      "dense_1 (Dense)              (None, 10)                1010      \n",
      "=================================================================\n",
      "Total params: 11,110\n",
      "Trainable params: 11,110\n",
      "Non-trainable params: 0\n",
      "_________________________________________________________________\n"
     ]
    }
   ],
   "source": [
    "model = tf.keras.models.Sequential([\n",
    "        tf.keras.layers.Dense(100,input_dim=100, activation=tf.nn.relu),\n",
    "#         tf.keras.layers.Dense(64, activation=tf.nn.relu),\n",
    "        tf.keras.layers.Dense(10, activation=tf.nn.softmax)])\n",
    "model.summary()"
   ]
  },
  {
   "cell_type": "code",
   "execution_count": 5,
   "metadata": {},
   "outputs": [],
   "source": [
    "model.compile(loss=\"sparse_categorical_crossentropy\", optimizer=\"adam\", metrics=[\"accuracy\"])"
   ]
  },
  {
   "cell_type": "code",
   "execution_count": 6,
   "metadata": {},
   "outputs": [
    {
     "name": "stdout",
     "output_type": "stream",
     "text": [
      "Server start at: DESKTOP-32B4E9T:1234\n",
      "wait for connection...\n",
      "Connected by ('192.168.1.161', 1039)\n",
      "Train on 1000 samples\n",
      "1000/1000 [==============================] - 1s 534us/sample - loss: 2.4603 - accuracy: 0.7080\n",
      "Train on 1000 samples\n",
      "1000/1000 [==============================] - 0s 58us/sample - loss: 0.0020 - accuracy: 1.0000\n",
      "Train on 1000 samples\n",
      "1000/1000 [==============================] - 0s 60us/sample - loss: 2.1408e-04 - accuracy: 1.0000\n",
      "Train on 1000 samples\n",
      "1000/1000 [==============================] - 0s 58us/sample - loss: 1.5300e-04 - accuracy: 1.0000\n",
      "Train on 1000 samples\n",
      "1000/1000 [==============================] - 0s 56us/sample - loss: 3.0391e-04 - accuracy: 1.0000\n",
      "Train on 1000 samples\n",
      "1000/1000 [==============================] - 0s 59us/sample - loss: 3.4315e-04 - accuracy: 1.0000\n",
      "Train on 1000 samples\n",
      "1000/1000 [==============================] - 0s 60us/sample - loss: 1.6962e-05 - accuracy: 1.0000\n",
      "Train on 1000 samples\n",
      "1000/1000 [==============================] - 0s 61us/sample - loss: 0.0033 - accuracy: 1.0000\n",
      "Train on 1000 samples\n",
      "1000/1000 [==============================] - 0s 57us/sample - loss: 8.1420e-05 - accuracy: 1.0000\n",
      "Train on 1000 samples\n",
      "1000/1000 [==============================] - 0s 62us/sample - loss: 0.0288 - accuracy: 0.9890\n",
      "Train on 1000 samples\n",
      "1000/1000 [==============================] - 0s 63us/sample - loss: 7.0664e-05 - accuracy: 1.0000\n",
      "Train on 1000 samples\n",
      "1000/1000 [==============================] - 0s 54us/sample - loss: 2.4941e-05 - accuracy: 1.0000\n",
      "Train on 1000 samples\n",
      "1000/1000 [==============================] - 0s 55us/sample - loss: 1.5968e-04 - accuracy: 1.0000\n",
      "Train on 1000 samples\n",
      "1000/1000 [==============================] - 0s 55us/sample - loss: 6.2920e-06 - accuracy: 1.0000\n",
      "Train on 1000 samples\n",
      "1000/1000 [==============================] - 0s 54us/sample - loss: 1.9407e-05 - accuracy: 1.0000\n",
      "Train on 1000 samples\n",
      "1000/1000 [==============================] - 0s 60us/sample - loss: 5.6582e-05 - accuracy: 1.0000\n",
      "Train on 1000 samples\n",
      "1000/1000 [==============================] - 0s 61us/sample - loss: 4.2809e-06 - accuracy: 1.0000\n",
      "Train on 1000 samples\n",
      "1000/1000 [==============================] - 0s 63us/sample - loss: 4.3259e-06 - accuracy: 1.0000\n",
      "Train on 1000 samples\n",
      "1000/1000 [==============================] - 0s 56us/sample - loss: 1.2274e-05 - accuracy: 1.0000\n",
      "Train on 1000 samples\n",
      "1000/1000 [==============================] - 0s 56us/sample - loss: 1.1457e-05 - accuracy: 1.0000\n"
     ]
    }
   ],
   "source": [
    "# SERVER_HOST = \"0.0.0.0\"\n",
    "# SERVER_PORT = 5001\n",
    "\n",
    "s = socket.socket(socket.AF_INET, socket.SOCK_STREAM)\n",
    "s.bind((socket.gethostname(), 1234))\n",
    "s.listen(5)\n",
    "\n",
    "print(\"Server start at: %s:%s\"%(socket.gethostname(), 1234))\n",
    "print(\"wait for connection...\")\n",
    "\n",
    "conn, addr = s.accept()\n",
    "print(\"Connected by\",addr)\n",
    "for i in range(iterations):\n",
    "    data = b\"\"\n",
    "# client 1 data\n",
    "    mse_len1 = conn.recv(1024)\n",
    "    mse_len1 = pkl.loads(mse_len1,encoding=\"bytes\")\n",
    "    conn.send(bytes(\"server received you message.\",\"utf-8\"))\n",
    "    temp = conn.recv(mse_len1+1)\n",
    "    data += temp\n",
    "    unserialized_data1 = pkl.loads(data,encoding=\"bytes\")\n",
    "    conn.send(bytes(\"server received you message.\",\"utf-8\"))\n",
    "    encrypt_z1, y = unserialized_data1\n",
    "# client 2 data\n",
    "    mse_len2 = conn.recv(1024)\n",
    "    mse_len2 = pkl.loads(mse_len2,encoding=\"bytes\")\n",
    "    conn.send(bytes(\"server received you message.\",\"utf-8\"))\n",
    "    temp = conn.recv(mse_len2+1)\n",
    "    data += temp\n",
    "    unserialized_data2 = pkl.loads(data,encoding=\"bytes\")\n",
    "    conn.send(bytes(\"server received you message.\",\"utf-8\"))\n",
    "    encrypt_z2, y = unserialized_data2\n",
    "    \n",
    "    encrypt_z = np.concatenate((encrypt_z1,encrypt_z2),axis=1)\n",
    "    \n",
    "# print('forward - backward')\n",
    "    with tf.device(\"/gpu:0\"):  \n",
    "        model.fit(encrypt_z, y, epochs=1)\n",
    "        inputs_va = tf.Variable(encrypt_z)\n",
    "        with tf.GradientTape() as tape:\n",
    "            preds = model(inputs_va)\n",
    "        grads = tape.gradient(preds, inputs_va)\n",
    "    delta2 = grads.numpy()\n",
    "\n",
    "    serialized_data = pkl.dumps(delta2)\n",
    "    mse_len = pkl.dumps(sys.getsizeof(serialized_data))\n",
    "\n",
    "    conn.send(mse_len)\n",
    "\n",
    "    conn.recv(1024)\n",
    "    conn.send(serialized_data)\n",
    "\n",
    "conn.close()"
   ]
  },
  {
   "cell_type": "code",
   "execution_count": null,
   "metadata": {},
   "outputs": [],
   "source": []
  },
  {
   "cell_type": "code",
   "execution_count": null,
   "metadata": {},
   "outputs": [],
   "source": []
  },
  {
   "cell_type": "code",
   "execution_count": null,
   "metadata": {},
   "outputs": [],
   "source": []
  }
 ],
 "metadata": {
  "kernelspec": {
   "display_name": "Python 3",
   "language": "python",
   "name": "python3"
  },
  "language_info": {
   "codemirror_mode": {
    "name": "ipython",
    "version": 3
   },
   "file_extension": ".py",
   "mimetype": "text/x-python",
   "name": "python",
   "nbconvert_exporter": "python",
   "pygments_lexer": "ipython3",
   "version": "3.7.7"
  }
 },
 "nbformat": 4,
 "nbformat_minor": 4
}
